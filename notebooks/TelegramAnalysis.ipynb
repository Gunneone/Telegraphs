{
 "cells": [
  {
   "cell_type": "code",
   "execution_count": null,
   "metadata": {},
   "outputs": [],
   "source": [
    "import json\n",
    "import pandas as pd\n",
    "import datetime\n",
    "import re\n",
    "import sys"
   ]
  },
  {
   "cell_type": "code",
   "execution_count": null,
   "metadata": {},
   "outputs": [],
   "source": [
    "%run Config.ipynb"
   ]
  },
  {
   "cell_type": "code",
   "execution_count": null,
   "metadata": {},
   "outputs": [],
   "source": [
    "file = open('result.json',encoding='utf8')\n",
    "\n",
    "telegram = json.load(file)\n",
    "about = telegram['about']\n",
    "chats = telegram['chats']['list']"
   ]
  },
  {
   "cell_type": "code",
   "execution_count": null,
   "metadata": {},
   "outputs": [],
   "source": [
    "#try to retrieve ownChatId if it isn't set manually\n",
    "for chat in chats:\n",
    "    if chat['type']=='saved_messages':\n",
    "        saved_messages={'id':str(chat['id']),'name': 'Saved Messages',\n",
    "                          'sent':len(chat.get('messages')),\n",
    "                          'received':0,\n",
    "                          'total':len(chat.get('messages'))\n",
    "                         }\n",
    "        ownChatId = chat['id']\n",
    "        break\n",
    "if ownChatId ==0:\n",
    "    sys.exit(\"Your Chat ID couldn't be retrieved automatically. Please set it in the Config File.\")\n",
    "    print(ownChatId)"
   ]
  },
  {
   "cell_type": "code",
   "execution_count": null,
   "metadata": {},
   "outputs": [],
   "source": [
    "# Add whitespaces to distinguish duplicate chat names\n",
    "names=[]\n",
    "for chat in chats:\n",
    "    if (chat['type'] in ['personal_chat','private_group','private_supergroup']) and str(chat.get('name'))!='None':\n",
    "        name=chat['name']\n",
    "        nameCount=names.count(name)\n",
    "        names.append(name)\n",
    "        chat['name']=name+' '*nameCount"
   ]
  },
  {
   "cell_type": "code",
   "execution_count": null,
   "metadata": {},
   "outputs": [],
   "source": [
    "messages = [{'chat':chat['name'],'type':chat['type'],'message':msg} \n",
    "            for chat in chats for msg in chat['messages'] if chat['type'] in ['personal_chat','private_group','private_supergroup'] and \"action\" not in msg.keys()]\n",
    "\n",
    "sentMessages=[msg['message'] for msg in messages if msg['message'].get('from_id')==ownChatId]\n",
    "receivedMessages=[msg['message'] for msg in messages if msg['message'].get('from_id')!=ownChatId]\n",
    "\n",
    "sentPrivateMessages=[msg['message'] for msg in messages if msg['message'].get('from_id')==ownChatId and msg['type']=='personal_chat']\n",
    "receivedPrivateMessages=[msg['message'] for msg in messages if msg['message'].get('from_id')!=ownChatId and msg['type']=='personal_chat']"
   ]
  },
  {
   "cell_type": "code",
   "execution_count": null,
   "metadata": {},
   "outputs": [],
   "source": [
    "firstSentMessages=[]\n",
    "firstReceivedMessages=[]\n",
    "for chat in chats:\n",
    "    if (chat['type'] in ['personal_chat','private_group','private_supergroup'])and str(chat.get('name'))!='None':\n",
    "        for msg in chat['messages']:\n",
    "            if msg.get('from_id')==ownChatId and msg.get('type')=='message' and msg.get('file') == None:\n",
    "                firstSentMessages.append({'text':msg.get('text'),\n",
    "                                      'chat':str(chat['name']),\n",
    "                                      'datetime':msg.get('date')\n",
    "                                     })\n",
    "                break\n",
    "        for msg in chat['messages']:\n",
    "            if msg.get('from_id')!=ownChatId and msg.get('type')=='message' and msg.get('file') == None:\n",
    "                if chat['type'] in ['private_group','private_supergroup']:\n",
    "                    firstReceivedMessages.append({'text':msg.get('text'),\n",
    "                                      'chat':str(msg['from'])+' (in Group \\\"'+chat['name']+'\\\")',\n",
    "                                      'datetime':msg.get('date')\n",
    "                                     })\n",
    "                else:                        \n",
    "                    firstReceivedMessages.append({'text':msg.get('text'),\n",
    "                                      'chat':str(chat['name']),\n",
    "                                      'datetime':msg.get('date')\n",
    "                                     })\n",
    "                break\n",
    "            \n",
    "\n",
    "firstSentMessages.sort(key=lambda k: k['datetime'])\n",
    "firstReceivedMessages.sort(key=lambda k: k['datetime'])\n",
    "\n",
    "firstSentMessage=firstSentMessages[0]\n",
    "firstReceivedMessage=firstReceivedMessages[0]"
   ]
  },
  {
   "cell_type": "code",
   "execution_count": null,
   "metadata": {},
   "outputs": [],
   "source": [
    "contentTypes = {}\n",
    "for msg in sentMessages:\n",
    "    if msg.get('file'):\n",
    "        if msg.get('media_type'):\n",
    "            if contentTypes.get(msg.get('media_type')):\n",
    "                contentTypes[msg.get('media_type')] = contentTypes.get(msg.get('media_type'))+1\n",
    "            else:\n",
    "                contentTypes[msg.get('media_type')] = 1\n",
    "        elif msg.get('mime_type'):\n",
    "            if contentTypes.get(msg.get('mime_type')):\n",
    "                contentTypes[msg.get('mime_type')] = contentTypes.get(msg.get('mime_type'))+1\n",
    "            else:\n",
    "                contentTypes[msg.get('mime_type')] = 1\n",
    "        else:\n",
    "            if contentTypes.get('others'):\n",
    "                contentTypes['others'] = contentTypes.get('others')+1\n",
    "            else:\n",
    "                contentTypes['others'] = 1\n",
    "    elif msg.get('photo'):\n",
    "        if contentTypes.get('image'):\n",
    "            contentTypes['image'] = contentTypes.get('image')+1\n",
    "        else:\n",
    "            contentTypes['image'] = 1\n",
    "    else:\n",
    "        if contentTypes.get('text'):\n",
    "            contentTypes['text'] = contentTypes.get('text')+1\n",
    "        else:\n",
    "            contentTypes['text'] = 1\n",
    "\n",
    "cleanedContentTypes={'Text':0,'Image':0, 'Video':0, 'Audio':0, 'Sticker':0, 'Voice/Video Message':0, 'Other Files':0}\n",
    "cleanedContentTypes['Text']=contentTypes.pop('text',0)\n",
    "cleanedContentTypes['Image']=contentTypes.pop('image',0)+contentTypes.pop('image/jpeg',0)+contentTypes.pop('image/png',0)++contentTypes.pop('image/gif',0)\n",
    "cleanedContentTypes['Video']=contentTypes.pop('video_file',0)+contentTypes.pop('video/mp4',0)+contentTypes.pop('video/mpeg',0)\n",
    "cleanedContentTypes['Audio']=contentTypes.pop('audio_file',0)+contentTypes.pop('audio/x-wav',0)\n",
    "cleanedContentTypes['Sticker']=contentTypes.pop('sticker',0)\n",
    "cleanedContentTypes['GIF']=contentTypes.pop('animation',0)\n",
    "cleanedContentTypes['Voice/Video Message']=contentTypes.pop('voice_message',0)+contentTypes.pop('video_message',0)\n",
    "\n",
    "cleanedContentTypes['Other Files']=sum(contentTypes.values())\n",
    "\n",
    "cleanedContentTypes={x:y for x,y in cleanedContentTypes.items() if y!=0}"
   ]
  },
  {
   "cell_type": "code",
   "execution_count": null,
   "metadata": {},
   "outputs": [],
   "source": [
    "messageDates = pd.DataFrame([[datetime.date.fromisoformat(msg['message']['date'][0:10]),''] for msg in messages], columns=['Date','Count'])\n",
    "messageDateFrequencies = messageDates.groupby('Date',as_index=False).count()\n",
    "messageDateFrequencies['Weekday']= messageDateFrequencies['Date'].apply(lambda x: x.weekday())\n",
    "\n",
    "daysSinceStart = (messageDateFrequencies.tail(1)['Date'].values[0]-messageDateFrequencies.head(1)['Date'].values[0]).days\n",
    "base=messageDateFrequencies.tail(1)['Date'].values[0]\n",
    "generalDates = [base - datetime.timedelta(days=x) for x in range(daysSinceStart)]\n",
    "\n",
    "messagesPerWeekday = messageDateFrequencies.groupby('Weekday', as_index=False).sum()\n",
    "messagesPerWeekday['Weekday']=['Monday','Tuesday','Wednesday','Thursday','Friday','Saturday','Sunday']\n",
    "messagesPerWeekday['perDay']=[messagesPerWeekday['Count'][weekday]/len([date for date in generalDates if date.weekday()==weekday]) for weekday in messagesPerWeekday.index]"
   ]
  },
  {
   "cell_type": "code",
   "execution_count": null,
   "metadata": {},
   "outputs": [],
   "source": [
    "sentMessageTimes = pd.DataFrame([[datetime.time.fromisoformat(msg['date'][11:-3]).strftime('%H:%M'),''] for msg in sentPrivateMessages],columns=['Time','Sent'])\n",
    "receivedMessageTimes = pd.DataFrame([[datetime.time.fromisoformat(msg['date'][11:-3]).strftime('%H:%M'),''] for msg in receivedPrivateMessages],columns=['Time','Received'])\n",
    "sentMessageTimes=sentMessageTimes.groupby('Time', as_index=False).count()\n",
    "receivedMessageTimes=receivedMessageTimes.groupby('Time', as_index=False).count()\n",
    "\n",
    "totalMessagesPerHour = pd.DataFrame([datetime.time(h,m).strftime('%H:%M') for h in range(0,24,1) for m in range(0,60,1)],columns=['Time'])\n",
    "totalMessagesPerHour = totalMessagesPerHour.join(sentMessageTimes.set_index('Time'), on='Time').join(receivedMessageTimes.set_index('Time'), on='Time')\n",
    "\n",
    "totalMessagesPerHour['Sent']=totalMessagesPerHour['Sent']/daysSinceStart*60\n",
    "totalMessagesPerHour['Received']=totalMessagesPerHour['Received']/daysSinceStart*60\n",
    "totalMessagesPerHour['Total']=totalMessagesPerHour['Sent']+totalMessagesPerHour['Received']\n",
    "\n",
    "totalMessagesPerHour"
   ]
  },
  {
   "cell_type": "code",
   "execution_count": null,
   "metadata": {},
   "outputs": [],
   "source": [
    "frequentChats=[]\n",
    "for chat in chats:\n",
    "    if (chat['type'] in ['personal_chat','private_group','private_supergroup'])and str(chat.get('name'))!='None':\n",
    "        sentCount=len([msg for msg in chat['messages'] if msg.get('from_id')==ownChatId and \"action\" not in msg.keys()])\n",
    "        receivedCount=len([msg for msg in chat['messages'] if msg.get('from_id')!=ownChatId and \"action\" not in msg.keys()])\n",
    "        totalCount=sentCount+receivedCount\n",
    "        frequentChats.append({'id':str(chat['id']),'name':chat['name'],\n",
    "                              'sent':sentCount,\n",
    "                              'received':receivedCount,\n",
    "                              'total':totalCount\n",
    "                             })\n",
    "frequentChats.append(saved_messages)        \n",
    "\n",
    "frequentChats.sort(key=lambda k: k['total'],reverse=True)\n",
    "frequentChats = pd.DataFrame(frequentChats)"
   ]
  },
  {
   "cell_type": "code",
   "execution_count": null,
   "metadata": {
    "scrolled": false
   },
   "outputs": [],
   "source": [
    "sentVoiceMessages = [{'chat': msg['chat'], 'duration':msg['message'].get('duration_seconds',0),'type':'sent'} \n",
    "                   for msg in messages if msg['message'].get('media_type')=='voice_message' \n",
    "                   and msg['message'].get('from_id')==ownChatId]\n",
    "receivedVoiceMessages = [{'chat': msg['chat'], 'duration':msg['message'].get('duration_seconds',0),'type':'received'} \n",
    "                   for msg in messages if msg['message'].get('media_type')=='voice_message' \n",
    "                   and msg['message'].get('from_id')!=ownChatId]\n",
    "\n",
    "voiceMessageTotal = pd.DataFrame(sentVoiceMessages+receivedVoiceMessages).groupby(['chat']).sum()\n",
    "voiceMessageSent = pd.DataFrame(sentVoiceMessages).groupby(['chat']).sum()\n",
    "voiceMessageReceived = pd.DataFrame(receivedVoiceMessages).groupby(['chat']).sum()\n",
    "\n",
    "voiceMessages = pd.merge(voiceMessageSent, voiceMessageReceived, on='chat',how='outer')\n",
    "voiceMessages = pd.merge(voiceMessages, voiceMessageTotal, on='chat')\n",
    "\n",
    "voiceMessages = voiceMessages.rename(columns={'duration_x': 'Sent', 'duration_y': 'Received', 'duration': 'Total'}).sort_values(by=['Total'],ascending=False)"
   ]
  },
  {
   "cell_type": "code",
   "execution_count": null,
   "metadata": {},
   "outputs": [],
   "source": [
    "texts=[str(msg['text']).lower() for msg in sentMessages if msg['text']!='']\n",
    "frequentMessages = pd.DataFrame(texts,columns=['Text'])\n",
    "frequentMessages['Count']=''\n",
    "frequentMessages = frequentMessages.groupby('Text',as_index=False).count().sort_values(by=['Count'],ascending=False)"
   ]
  },
  {
   "cell_type": "code",
   "execution_count": null,
   "metadata": {
    "scrolled": true
   },
   "outputs": [],
   "source": [
    "regex_pattern = re.compile(pattern = \"[^\"\n",
    "        u\"\\U0001F600-\\U0001F64F\"  # emoticons\n",
    "        u\"\\U0001F300-\\U0001F3FA\"  # symbols & pictographs\n",
    "        u\"\\U0001F400-\\U0001F5FF\"  # symbols & pictographs\n",
    "        u\"\\U0001F680-\\U0001F6FF\"  # transport & map symbols\n",
    "        u\"\\U0001F1E0-\\U0001F1FF\"  # flags (iOS)\n",
    "                           \"]+\", flags = re.UNICODE)\n",
    "def emojify(text):   \n",
    "    return regex_pattern.sub(r'',text)\n",
    "\n",
    "emojis = pd.DataFrame([[emoji,''] for emoji in ''.join([msg for msg in [emojify(text) for text in texts] if msg!=''])],columns=['Emoji','Count'])\n",
    "frequentEmojis = emojis.groupby('Emoji',as_index=False).count().sort_values(by=['Count'],ascending=False)"
   ]
  },
  {
   "cell_type": "code",
   "execution_count": null,
   "metadata": {},
   "outputs": [],
   "source": [
    "stickerMessages = [msg for msg in sentMessages if msg.get('media_type')=='sticker']\n",
    "stickerEmojis = pd.DataFrame([[msg['sticker_emoji'],''] for msg in stickerMessages if 'sticker_emoji' in msg.keys()],columns=['Emoji','Count'])\n",
    "\n",
    "frequentStickerEmojis = stickerEmojis.groupby('Emoji', as_index=False).count().sort_values(by=['Count'],ascending=False)"
   ]
  },
  {
   "cell_type": "code",
   "execution_count": null,
   "metadata": {},
   "outputs": [],
   "source": [
    "messageMonths = pd.DataFrame([[datetime.date.fromisoformat(msg['message']['date'][0:8]+'01'),''] for msg in messages],columns=['Month','Count'])\n",
    "messageMonthFrequencies = messageMonths.groupby('Month',as_index=False).count()"
   ]
  },
  {
   "cell_type": "code",
   "execution_count": null,
   "metadata": {},
   "outputs": [],
   "source": [
    "messagesPerMonth = pd.DataFrame([[msg['message']['date'][5:7],''] for msg in messages],columns=['Month','Count'])\n",
    "messagesPerMonth = messagesPerMonth.groupby('Month',as_index=False).count()\n",
    "\n",
    "messagesPerMonth['perDay']=[messagesPerMonth['Count'][month]/len([date for date in generalDates if date.month==month+1]) for month in messagesPerMonth.index]\n",
    "messagesPerMonth['Month']=['Jan','Feb','Mar','Apr','May','Jun','Jul','Aug','Sep','Oct','Nov','Dec']"
   ]
  },
  {
   "cell_type": "code",
   "execution_count": null,
   "metadata": {},
   "outputs": [],
   "source": [
    "messageDatetimes = [{'datetime':datetime.datetime.strptime(msg['message']['date'],'%Y-%m-%dT%H:%M:%S'),'chat':msg['chat']} \n",
    "                    for msg in messages if str(msg['chat'])!='None']\n",
    "messageDatetimes.sort(key=lambda k:k['datetime'])\n",
    "messageDatetimes = [{'time':message['datetime'],'totalCount':tc,'chat':message['chat']} for tc,message in enumerate(messageDatetimes)]\n",
    "\n",
    "chatCounter = {}\n",
    "for msg in messageDatetimes:\n",
    "    if msg['chat'] in chatCounter.keys():\n",
    "        chatCounter[msg['chat']]=chatCounter[msg['chat']]+1\n",
    "    else:\n",
    "        chatCounter[msg['chat']]=1\n",
    "    msg['chatCount']=chatCounter[msg['chat']]"
   ]
  }
 ],
 "metadata": {
  "kernelspec": {
   "display_name": "Python 3",
   "language": "python",
   "name": "python3"
  },
  "language_info": {
   "codemirror_mode": {
    "name": "ipython",
    "version": 3
   },
   "file_extension": ".py",
   "mimetype": "text/x-python",
   "name": "python",
   "nbconvert_exporter": "python",
   "pygments_lexer": "ipython3",
   "version": "3.8.5"
  }
 },
 "nbformat": 4,
 "nbformat_minor": 4
}
