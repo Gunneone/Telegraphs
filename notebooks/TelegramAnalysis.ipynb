{
 "cells": [
  {
   "cell_type": "code",
   "execution_count": null,
   "metadata": {},
   "outputs": [],
   "source": [
    "import json\n",
    "import pandas as pd\n",
    "import datetime\n",
    "import re\n",
    "import sys\n",
    "#import itertools"
   ]
  },
  {
   "cell_type": "code",
   "execution_count": null,
   "metadata": {},
   "outputs": [],
   "source": [
    "%run Config.ipynb"
   ]
  },
  {
   "cell_type": "code",
   "execution_count": null,
   "metadata": {},
   "outputs": [],
   "source": [
    "file = open('result.json',encoding='utf8')\n",
    "\n",
    "telegram = json.load(file)\n",
    "about = telegram['about']\n",
    "chats = telegram['chats']['list']"
   ]
  },
  {
   "cell_type": "code",
   "execution_count": null,
   "metadata": {},
   "outputs": [],
   "source": [
    "#try to retrieve ownChatId if it isn't set manually\n",
    "for chat in chats:\n",
    "    if chat['type']=='saved_messages':\n",
    "        saved_messages={'id':str(chat['id']),'name': 'Saved Messages',\n",
    "                          'sent':len(chat.get('messages')),\n",
    "                          'received':0,\n",
    "                          'total':len(chat.get('messages'))\n",
    "                         }\n",
    "        ownChatId = chat['id']\n",
    "        break\n",
    "if ownChatId ==0:\n",
    "    sys.exit(\"Your Chat ID couldn't be retrieved automatically. Please set it in the Config File.\")\n",
    "    print(ownChatId)"
   ]
  },
  {
   "cell_type": "code",
   "execution_count": null,
   "metadata": {},
   "outputs": [],
   "source": [
    "# Add whitespaces to distinguish duplicate chat names\n",
    "names=[]\n",
    "for chat in chats:\n",
    "    if (chat['type'] in ['personal_chat','private_group','private_supergroup']) and str(chat.get('name'))!='None':\n",
    "        name=chat['name']\n",
    "        nameCount=names.count(name)\n",
    "        names.append(name)\n",
    "        chat['name']=name+' '*nameCount"
   ]
  },
  {
   "cell_type": "code",
   "execution_count": null,
   "metadata": {},
   "outputs": [],
   "source": [
    "messages = [{'chat':chat['name'],'type':chat['type'],'message':msg} \n",
    "            for chat in chats for msg in chat['messages'] if chat['type'] in ['personal_chat','private_group','private_supergroup'] and \"action\" not in msg.keys()]\n",
    "\n",
    "sentMessages=[msg['message'] for msg in messages if msg['message'].get('from_id')==ownChatId]\n",
    "receivedMessages=[msg['message'] for msg in messages if msg['message'].get('from_id')!=ownChatId]\n",
    "\n",
    "sentPrivateMessages=[msg['message'] for msg in messages if msg['message'].get('from_id')==ownChatId and msg['type']=='personal_chat']\n",
    "receivedPrivateMessages=[msg['message'] for msg in messages if msg['message'].get('from_id')!=ownChatId and msg['type']=='personal_chat']"
   ]
  },
  {
   "cell_type": "code",
   "execution_count": null,
   "metadata": {},
   "outputs": [],
   "source": [
    "contentTypes = {}\n",
    "for msg in sentMessages:\n",
    "    if msg.get('file'):\n",
    "        if msg.get('media_type'):\n",
    "            if contentTypes.get(msg.get('media_type')):\n",
    "                contentTypes[msg.get('media_type')] = contentTypes.get(msg.get('media_type'))+1\n",
    "            else:\n",
    "                contentTypes[msg.get('media_type')] = 1\n",
    "        elif msg.get('mime_type'):\n",
    "            if contentTypes.get(msg.get('mime_type')):\n",
    "                contentTypes[msg.get('mime_type')] = contentTypes.get(msg.get('mime_type'))+1\n",
    "            else:\n",
    "                contentTypes[msg.get('mime_type')] = 1\n",
    "        else:\n",
    "            if contentTypes.get('others'):\n",
    "                contentTypes['others'] = contentTypes.get('others')+1\n",
    "            else:\n",
    "                contentTypes['others'] = 1\n",
    "    elif msg.get('photo'):\n",
    "        if contentTypes.get('image'):\n",
    "            contentTypes['image'] = contentTypes.get('image')+1\n",
    "        else:\n",
    "            contentTypes['image'] = 1\n",
    "    else:\n",
    "        if contentTypes.get('text'):\n",
    "            contentTypes['text'] = contentTypes.get('text')+1\n",
    "        else:\n",
    "            contentTypes['text'] = 1\n",
    "\n",
    "cleanedContentTypes={'Text':0,'Image':0, 'Video':0, 'Audio':0, 'Document':0, 'Sticker':0, 'Voice Message':0, 'Video Message':0,'Other':0}\n",
    "cleanedContentTypes['Text']=contentTypes.pop('text',0)\n",
    "cleanedContentTypes['Image']=contentTypes.pop('image',0)+contentTypes.pop('image/jpeg',0)+contentTypes.pop('image/png',0)++contentTypes.pop('image/gif',0)\n",
    "cleanedContentTypes['Video']=contentTypes.pop('video_file',0)+contentTypes.pop('video/mp4',0)+contentTypes.pop('video/mpeg',0)\n",
    "cleanedContentTypes['Audio']=contentTypes.pop('audio_file',0)+contentTypes.pop('audio/x-wav',0)\n",
    "cleanedContentTypes['Sticker']=contentTypes.pop('sticker',0)\n",
    "cleanedContentTypes['GIF']=contentTypes.pop('animation',0)\n",
    "cleanedContentTypes['Voice Message']=contentTypes.pop('voice_message',0)\n",
    "cleanedContentTypes['Video Message']=contentTypes.pop('video_message',0)\n",
    "cleanedContentTypes['Document']=contentTypes.pop('application/pdf',0)+contentTypes.pop('text/html',0)+contentTypes.pop('text/plain',0)\n",
    "\n",
    "for key in list(contentTypes):\n",
    "    if 'document' in key:\n",
    "        cleanedContentTypes['Document']=cleanedContentTypes['Document']+contentTypes.pop(key)\n",
    "\n",
    "cleanedContentTypes['Other']=sum(contentTypes.values())\n",
    "\n",
    "cleanedContentTypes={x:y for x,y in cleanedContentTypes.items() if y!=0}"
   ]
  },
  {
   "cell_type": "code",
   "execution_count": null,
   "metadata": {},
   "outputs": [],
   "source": [
    "messageDates = pd.DataFrame([[datetime.date.fromisoformat(msg['message']['date'][0:10]),''] for msg in messages], columns=['Date','Count'])\n",
    "messageDateFrequencies = messageDates.groupby('Date',as_index=False).count()\n",
    "messageDateFrequencies['Weekday']= messageDateFrequencies['Date'].apply(lambda x: x.weekday())\n",
    "messagesPerWeekday = messageDateFrequencies.groupby('Weekday', as_index=False).mean()\n",
    "messagesPerWeekday['Weekday']=['Monday','Tuesday','Wednesday','Thursday','Friday','Saturday','Sunday']"
   ]
  },
  {
   "cell_type": "code",
   "execution_count": null,
   "metadata": {},
   "outputs": [],
   "source": [
    "sentMessageTimes = pd.DataFrame([[datetime.time.fromisoformat(msg['date'][11:-2]+'00'),''] for msg in sentPrivateMessages],columns=['Time','Sent'])\n",
    "receivedMessageTimes = pd.DataFrame([[datetime.time.fromisoformat(msg['date'][11:-2]+'00'),''] for msg in receivedPrivateMessages],columns=['Time','Received'])\n",
    "sentMessageTimes=sentMessageTimes.groupby('Time', as_index=False).count()\n",
    "receivedMessageTimes=receivedMessageTimes.groupby('Time', as_index=False).count()\n",
    "\n",
    "totalMessagesPerHour = pd.DataFrame([datetime.time(h,m,0) for h in range(0,24,1) for m in range(0,60,1)],columns=['Time'])\n",
    "totalMessagesPerHour = totalMessagesPerHour.join(sentMessageTimes.set_index('Time'), on='Time').join(receivedMessageTimes.set_index('Time'), on='Time')\n",
    "\n",
    "totalMessagesPerHour['Sent']=totalMessagesPerHour['Sent']/(messageDateFrequencies.tail(1)['Date'].values[0]-messageDateFrequencies.head(1)['Date'].values[0]).days*60\n",
    "totalMessagesPerHour['Received']=totalMessagesPerHour['Received']/(messageDateFrequencies.tail(1)['Date'].values[0]-messageDateFrequencies.head(1)['Date'].values[0]).days*60\n",
    "totalMessagesPerHour['Total']=totalMessagesPerHour['Sent']+totalMessagesPerHour['Received']"
   ]
  },
  {
   "cell_type": "code",
   "execution_count": null,
   "metadata": {},
   "outputs": [],
   "source": [
    "frequentChats=[]\n",
    "for chat in chats:\n",
    "    if (chat['type'] in ['personal_chat','private_group','private_supergroup'])and str(chat.get('name'))!='None':\n",
    "        sentCount=len([msg for msg in chat['messages'] if msg.get('from_id')==ownChatId and \"action\" not in msg.keys()])\n",
    "        receivedCount=len([msg for msg in chat['messages'] if msg.get('from_id')!=ownChatId and \"action\" not in msg.keys()])\n",
    "        totalCount=sentCount+receivedCount\n",
    "        frequentChats.append({'id':str(chat['id']),'name':chat['name'],\n",
    "                              'sent':sentCount,\n",
    "                              'received':receivedCount,\n",
    "                              'total':totalCount\n",
    "                             })\n",
    "frequentChats.append(saved_messages)        \n",
    "\n",
    "frequentChats.sort(key=lambda k: k['total'],reverse=True)\n",
    "frequentChats = pd.DataFrame(frequentChats)"
   ]
  },
  {
   "cell_type": "code",
   "execution_count": null,
   "metadata": {
    "scrolled": false
   },
   "outputs": [],
   "source": [
    "sentVoiceMessages = [{'chat': msg['chat'], 'duration':msg['message'].get('duration_seconds',0),'type':'sent'} \n",
    "                   for msg in messages if msg['message'].get('media_type')=='voice_message' \n",
    "                   and msg['message'].get('from_id')==ownChatId]\n",
    "receivedVoiceMessages = [{'chat': msg['chat'], 'duration':msg['message'].get('duration_seconds',0),'type':'received'} \n",
    "                   for msg in messages if msg['message'].get('media_type')=='voice_message' \n",
    "                   and msg['message'].get('from_id')!=ownChatId]\n",
    "\n",
    "voiceMessageTotal = pd.DataFrame(sentVoiceMessages+receivedVoiceMessages).groupby(['chat']).sum()\n",
    "voiceMessageSent = pd.DataFrame(sentVoiceMessages).groupby(['chat']).sum()\n",
    "voiceMessageReceived = pd.DataFrame(receivedVoiceMessages).groupby(['chat']).sum()\n",
    "\n",
    "voiceMessages = pd.merge(voiceMessageSent, voiceMessageReceived, on='chat',how='outer')\n",
    "voiceMessages = pd.merge(voiceMessages, voiceMessageTotal, on='chat')\n",
    "\n",
    "voiceMessages = voiceMessages.rename(columns={'duration_x': 'Sent', 'duration_y': 'Received', 'duration': 'Total'}).sort_values(by=['Total'],ascending=False)"
   ]
  },
  {
   "cell_type": "code",
   "execution_count": null,
   "metadata": {},
   "outputs": [],
   "source": [
    "texts=[str(msg['text']).lower() for msg in sentMessages if msg['text']!='']\n",
    "frequentMessages = pd.DataFrame(texts,columns=['Text'])\n",
    "frequentMessages['Count']=''\n",
    "frequentMessages = frequentMessages.groupby('Text',as_index=False).count().sort_values(by=['Count'],ascending=False)"
   ]
  },
  {
   "cell_type": "code",
   "execution_count": null,
   "metadata": {
    "scrolled": true
   },
   "outputs": [],
   "source": [
    "regrex_pattern = re.compile(pattern = \"[^\"\n",
    "        u\"\\U0001F600-\\U0001F64F\"  # emoticons\n",
    "        u\"\\U0001F300-\\U0001F5FF\"  # symbols & pictographs\n",
    "        u\"\\U0001F680-\\U0001F6FF\"  # transport & map symbols\n",
    "        u\"\\U0001F1E0-\\U0001F1FF\"  # flags (iOS)\n",
    "                           \"]+\", flags = re.UNICODE)\n",
    "def deEmojify(text):   \n",
    "    return regrex_pattern.sub(r'',text)\n",
    "\n",
    "#emojis=sorted(''.join([msg for msg in [deEmojify(text) for text in texts] if msg!='']))\n",
    "emojis = pd.DataFrame([[emoji,''] for emoji in ''.join([msg for msg in [deEmojify(text) for text in texts] if msg!=''])],columns=['Emoji','Count'])\n",
    "frequentEmojis = emojis.groupby('Emoji',as_index=False).count().sort_values(by=['Count'],ascending=False)"
   ]
  },
  {
   "cell_type": "code",
   "execution_count": null,
   "metadata": {},
   "outputs": [],
   "source": [
    "stickerMessages = [msg for msg in sentMessages if msg.get('media_type')=='sticker']\n",
    "stickerEmojis = pd.DataFrame([[msg['sticker_emoji'],''] for msg in stickerMessages if 'sticker_emoji' in msg.keys()],columns=['Emoji','Count'])\n",
    "\n",
    "frequentStickerEmojis = stickerEmojis.groupby('Emoji', as_index=False).count().sort_values(by=['Count'],ascending=False)"
   ]
  },
  {
   "cell_type": "code",
   "execution_count": null,
   "metadata": {},
   "outputs": [],
   "source": [
    "messageMonths = pd.DataFrame([[datetime.date.fromisoformat(msg['message']['date'][0:8]+'01'),''] for msg in messages],columns=['Month','Count'])\n",
    "messageMonthFrequencies = messageMonths.groupby('Month',as_index=False).count()"
   ]
  },
  {
   "cell_type": "code",
   "execution_count": null,
   "metadata": {},
   "outputs": [],
   "source": [
    "messageDatetimes = [{'datetime':datetime.datetime.strptime(msg['message']['date'],'%Y-%m-%dT%H:%M:%S'),'chat':msg['chat']} \n",
    "                    for msg in messages if str(msg['chat'])!='None']\n",
    "messageDatetimes.sort(key=lambda k:k['datetime'])\n",
    "messageDatetimes = [{'time':message['datetime'],'totalCount':tc,'chat':message['chat']} for tc,message in enumerate(messageDatetimes)]\n",
    "\n",
    "chatCounter = {}\n",
    "for msg in messageDatetimes:\n",
    "    if msg['chat'] in chatCounter.keys():\n",
    "        chatCounter[msg['chat']]=chatCounter[msg['chat']]+1\n",
    "    else:\n",
    "        chatCounter[msg['chat']]=1\n",
    "    msg['chatCount']=chatCounter[msg['chat']]"
   ]
  }
 ],
 "metadata": {
  "kernelspec": {
   "display_name": "Python 3",
   "language": "python",
   "name": "python3"
  },
  "language_info": {
   "codemirror_mode": {
    "name": "ipython",
    "version": 3
   },
   "file_extension": ".py",
   "mimetype": "text/x-python",
   "name": "python",
   "nbconvert_exporter": "python",
   "pygments_lexer": "ipython3",
   "version": "3.8.5"
  }
 },
 "nbformat": 4,
 "nbformat_minor": 4
}
