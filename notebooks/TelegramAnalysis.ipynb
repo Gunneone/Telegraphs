{
 "cells": [
  {
   "cell_type": "code",
   "execution_count": null,
   "metadata": {},
   "outputs": [],
   "source": [
    "import json\n",
    "import itertools\n",
    "import pandas as pd\n",
    "import datetime\n",
    "import re"
   ]
  },
  {
   "cell_type": "code",
   "execution_count": null,
   "metadata": {},
   "outputs": [],
   "source": [
    "%run Config.ipynb"
   ]
  },
  {
   "cell_type": "code",
   "execution_count": null,
   "metadata": {},
   "outputs": [],
   "source": [
    "file = open('result.json',encoding='utf8')\n",
    "\n",
    "telegram = json.load(file)\n",
    "about = telegram['about']\n",
    "chats = telegram['chats']['list']"
   ]
  },
  {
   "cell_type": "code",
   "execution_count": null,
   "metadata": {},
   "outputs": [],
   "source": [
    "# Add whitespaces to distinguish duplicate chat names\n",
    "names=[]\n",
    "for chat in chats:\n",
    "    if (chat['type'] in ['personal_chat','private_group','private_supergroup'])and str(chat['name'])!='None':\n",
    "        name=chat['name']\n",
    "        nameCount=names.count(name)\n",
    "        names.append(name)\n",
    "        chat['name']=name+' '*nameCount"
   ]
  },
  {
   "cell_type": "code",
   "execution_count": null,
   "metadata": {},
   "outputs": [],
   "source": [
    "frequentChats=[]\n",
    "names=[]\n",
    "for chat in chats:\n",
    "    if (chat['type'] in ['personal_chat','private_group','private_supergroup'])and str(chat['name'])!='None':\n",
    "        \n",
    "        frequentChats.append({'id':str(chat['id']),'name':chat['name'],'length':len(chat['messages']),\n",
    "                              'sent':len([msg for msg in chat['messages'] if msg.get('from_id')==ownChatId]),\n",
    "                              'received':len([msg for msg in chat['messages'] if msg.get('from_id')!=ownChatId])\n",
    "                             })\n",
    "        \n",
    "\n",
    "frequentChats.sort(key=lambda k: k['length'],reverse=True)\n",
    "frequentChats = pd.DataFrame(frequentChats)"
   ]
  },
  {
   "cell_type": "code",
   "execution_count": null,
   "metadata": {},
   "outputs": [],
   "source": [
    "messages = [{'chat':chat['name'],'type':chat['type'],'message':message} \n",
    "            for chat in chats for message in chat['messages'] if chat['type'] in ['personal_chat','private_group','private_supergroup']]\n",
    "\n",
    "sentMessages=[msg['message'] for msg in messages if msg['message'].get('from_id')==ownChatId]\n",
    "receivedMessages=[msg['message'] for msg in messages if msg['message'].get('from_id')!=ownChatId]\n",
    "\n",
    "sentPrivateMessages=[msg['message'] for msg in messages if msg['message'].get('from_id')==ownChatId and msg['type']=='personal_chat']\n",
    "receivedPrivateMessages=[msg['message'] for msg in messages if msg['message'].get('from_id')!=ownChatId and msg['type']=='personal_chat']"
   ]
  },
  {
   "cell_type": "code",
   "execution_count": null,
   "metadata": {
    "scrolled": false
   },
   "outputs": [],
   "source": [
    "sentVoiceMessages = [{'chat': msg['chat'], 'duration':msg['message'].get('duration_seconds',0),'type':'sent'} \n",
    "                   for msg in messages if msg['message'].get('media_type')=='voice_message' \n",
    "                   and msg['message'].get('from_id')==ownChatId]\n",
    "receivedVoiceMessages = [{'chat': msg['chat'], 'duration':msg['message'].get('duration_seconds',0),'type':'received'} \n",
    "                   for msg in messages if msg['message'].get('media_type')=='voice_message' \n",
    "                   and msg['message'].get('from_id')!=ownChatId]\n",
    "\n",
    "voiceMessageTotal = pd.DataFrame(sentVoiceMessages+receivedVoiceMessages).groupby(['chat']).sum()\n",
    "voiceMessageSent = pd.DataFrame(sentVoiceMessages).groupby(['chat']).sum()\n",
    "voiceMessageReceived = pd.DataFrame(receivedVoiceMessages).groupby(['chat']).sum()\n",
    "\n",
    "voiceMessages = pd.merge(voiceMessageSent, voiceMessageReceived, on='chat',how='outer')\n",
    "voiceMessages = pd.merge(voiceMessages, voiceMessageTotal, on='chat')\n",
    "\n",
    "voiceMessages = voiceMessages.rename(columns={'duration_x': 'Sent', 'duration_y': 'Received', 'duration': 'Total'}).sort_values(by=['Total'],ascending=False)\n",
    "voiceMessageTotal"
   ]
  },
  {
   "cell_type": "code",
   "execution_count": null,
   "metadata": {},
   "outputs": [],
   "source": [
    "texts=[str(msg['text']).lower() for msg in sentMessages if msg['text']!='']\n",
    "texts.sort()"
   ]
  },
  {
   "cell_type": "code",
   "execution_count": null,
   "metadata": {},
   "outputs": [],
   "source": [
    "stickerMessages = [msg for msg in sentMessages if msg.get('media_type')=='sticker']\n",
    "stickerEmojis = [msg['sticker_emoji'] for msg in stickerMessages if 'sticker_emoji' in msg.keys()]\n",
    "stickerEmojis.sort()\n",
    "frequentStickerEmojis = [{'emoji':key, 'count':len(list(group))} for key, group in itertools.groupby(stickerEmojis)]\n",
    "frequentStickerEmojis.sort(key=lambda k:k['count'],reverse=True)\n",
    "frequentStickerEmojis=pd.DataFrame(frequentStickerEmojis)"
   ]
  },
  {
   "cell_type": "code",
   "execution_count": null,
   "metadata": {},
   "outputs": [],
   "source": [
    "frequencies = [{'text':key, 'count':len(list(group))} for key, group in itertools.groupby(texts)]\n",
    "frequentMessages = [msg for msg in frequencies if msg['count']>1]\n",
    "frequentMessages.sort(key=lambda k: k['count'],reverse=True )\n",
    "frequentMessages=pd.DataFrame(frequentMessages)"
   ]
  },
  {
   "cell_type": "code",
   "execution_count": null,
   "metadata": {},
   "outputs": [],
   "source": [
    "regrex_pattern = re.compile(pattern = \"[^\"\n",
    "        u\"\\U0001F600-\\U0001F64F\"  # emoticons\n",
    "        u\"\\U0001F300-\\U0001F5FF\"  # symbols & pictographs\n",
    "        u\"\\U0001F680-\\U0001F6FF\"  # transport & map symbols\n",
    "        u\"\\U0001F1E0-\\U0001F1FF\"  # flags (iOS)\n",
    "                           \"]+\", flags = re.UNICODE)\n",
    "def deEmojify(text):   \n",
    "    return regrex_pattern.sub(r'',text)\n",
    "\n",
    "emojis=sorted(''.join([msg for msg in [deEmojify(text) for text in texts] if msg!='']))\n",
    "frequentEmojis=[{'emoji':key, 'count':len(list(group))} for key, group in itertools.groupby(emojis)]\n",
    "frequentEmojis.sort(key=lambda k:k['count'],reverse=True)\n",
    "frequentEmojis=pd.DataFrame(frequentEmojis).head(topNEmojis)"
   ]
  },
  {
   "cell_type": "code",
   "execution_count": null,
   "metadata": {},
   "outputs": [],
   "source": [
    "messageDatetimes = [{'datetime':datetime.datetime.strptime(msg['message']['date'],'%Y-%m-%dT%H:%M:%S'),'chat':msg['chat']} \n",
    "                    for msg in messages if str(msg['chat'])!='None']\n",
    "messageDatetimes.sort(key=lambda k:k['datetime'])\n",
    "messageDatetimes = [{'time':message['datetime'],'totalCount':tc,'chat':message['chat']} for tc,message in enumerate(messageDatetimes)]\n",
    "\n",
    "chatCounter = {}\n",
    "for msg in messageDatetimes:\n",
    "    if msg['chat'] in chatCounter.keys():\n",
    "        chatCounter[msg['chat']]=chatCounter[msg['chat']]+1\n",
    "    else:\n",
    "        chatCounter[msg['chat']]=1\n",
    "    msg['chatCount']=chatCounter[msg['chat']]"
   ]
  },
  {
   "cell_type": "code",
   "execution_count": null,
   "metadata": {},
   "outputs": [],
   "source": [
    "messageDates = [datetime.date.fromisoformat(msg['message']['date'][0:10]) for msg in messages]\n",
    "messageDates.sort()\n",
    "messageDateFrequencies = [{'date':key, 'count':len(list(group))} for key, group in itertools.groupby(messageDates)]\n",
    "messagesPerWeekday = pd.DataFrame([{'weekday':date['date'].weekday(),'count':date['count']}for date in messageDateFrequencies]).groupby('weekday').mean()\n",
    "messageDateFrequencies = pd.DataFrame(messageDateFrequencies)"
   ]
  },
  {
   "cell_type": "code",
   "execution_count": null,
   "metadata": {},
   "outputs": [],
   "source": [
    "messageMonths = [datetime.date.fromisoformat(msg['message']['date'][0:8]+'01') for msg in messages]\n",
    "messageMonths.sort()\n",
    "messageMonthFrequencies = [{'date':key, 'count':len(list(group))} for key, group in itertools.groupby(messageMonths)]\n",
    "messageMonthFrequencies = pd.DataFrame(messageMonthFrequencies)"
   ]
  },
  {
   "cell_type": "code",
   "execution_count": null,
   "metadata": {},
   "outputs": [],
   "source": [
    "sentMessageTimes = [datetime.time.fromisoformat(msg['date'][11:-2]+'00') for msg in sentPrivateMessages]\n",
    "receivedMessageTimes = [datetime.time.fromisoformat(msg['date'][11:-2]+'00') for msg in receivedPrivateMessages]\n",
    "sentMessageTimes.sort()\n",
    "receivedMessageTimes.sort()\n",
    "sentMessageTimes = [{'time':key, 'count':len(list(group))} for key, group in itertools.groupby(sentMessageTimes)]\n",
    "receivedMessageTimes = [{'time':key, 'count':len(list(group))} for key, group in itertools.groupby(receivedMessageTimes)]\n",
    "\n",
    "counter=0\n",
    "for h in range(24):\n",
    "    for m in range(60):\n",
    "        if sentMessageTimes[counter]['time'].hour!=h or sentMessageTimes[counter]['time'].minute!=m:\n",
    "            sentMessageTimes.insert(counter,{'time':datetime.time(h,m),'count':0})  \n",
    "        if receivedMessageTimes[counter]['time'].hour!=h or receivedMessageTimes[counter]['time'].minute!=m:\n",
    "            receivedMessageTimes.insert(counter,{'time':datetime.time(h,m),'count':0})            \n",
    "        counter=counter+1\n",
    "\n",
    "totalMessageTimes = pd.DataFrame([{'time':sentMessageTimes[i]['time'],\n",
    "                                   'Sent':sentMessageTimes[i]['count'],\n",
    "                                   'Received':receivedMessageTimes[i]['count'],\n",
    "                                   'Total':sentMessageTimes[i]['count']+receivedMessageTimes[i]['count']} \n",
    "                                  for i in range(1440)])"
   ]
  }
 ],
 "metadata": {
  "kernelspec": {
   "display_name": "Python 3",
   "language": "python",
   "name": "python3"
  },
  "language_info": {
   "codemirror_mode": {
    "name": "ipython",
    "version": 3
   },
   "file_extension": ".py",
   "mimetype": "text/x-python",
   "name": "python",
   "nbconvert_exporter": "python",
   "pygments_lexer": "ipython3",
   "version": "3.8.5"
  }
 },
 "nbformat": 4,
 "nbformat_minor": 4
}
