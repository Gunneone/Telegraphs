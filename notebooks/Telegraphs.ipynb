{
 "cells": [
  {
   "cell_type": "code",
   "execution_count": null,
   "metadata": {},
   "outputs": [],
   "source": [
    "import plotly.express as px\n",
    "import plotly.graph_objs as go\n",
    "from plotly.subplots import make_subplots\n",
    "import pandas as pd\n",
    "import numpy as np\n",
    "from statistics import mean \n",
    "from IPython.core.display import display, HTML\n",
    "display(HTML(\"<style>.container { width:90% !important; }</style>\"))"
   ]
  },
  {
   "cell_type": "code",
   "execution_count": null,
   "metadata": {},
   "outputs": [],
   "source": [
    "# Your Config or Input Data changed? Run this again!\n",
    "%run TelegramAnalysis.ipynb"
   ]
  },
  {
   "cell_type": "code",
   "execution_count": null,
   "metadata": {
    "scrolled": false
   },
   "outputs": [],
   "source": [
    "fig = make_subplots(rows=1, cols=2, specs=[[{'type':'domain'}, {'type':'domain'}]])\n",
    "fig.add_trace(go.Pie(values=[len(sentPrivateMessages),len(receivedPrivateMessages)],labels=['Sent','Received'], \n",
    "                     hovertemplate='%{label}: %{value}<br>%{percent}<extra></extra>',\n",
    "                     title='You sent and received a total of '+str(len(sentPrivateMessages)+len(receivedPrivateMessages))+' private messages',\n",
    "                     sort=False,rotation=-len(sentPrivateMessages)/(len(sentPrivateMessages)+len(receivedPrivateMessages))*360),1,1)\n",
    "fig.add_trace(go.Pie(values=[voiceMessageSent['duration'].sum(),voiceMessageReceived['duration'].sum()], labels=['Sent','Received'],\n",
    "                     hovertemplate='%{label}: %{value}<br>%{percent}<extra></extra>',\n",
    "                     title='You sent and received a total of '+str(voiceMessageSent['duration'].sum()+voiceMessageReceived['duration'].sum())+' seconds of voice messages',\n",
    "                     sort=False,rotation=-voiceMessageSent['duration'].sum()/(voiceMessageSent['duration'].sum()+voiceMessageReceived['duration'].sum())*360),1,2)\n",
    "\n",
    "fig['data'][0]['title']={'text': str(len(sentPrivateMessages)+len(receivedPrivateMessages))+' direct messages','font':{'size':titleFontSize}, 'position':'bottom center'}\n",
    "fig['data'][1]['title']={'text': str(voiceMessageSent['duration'].sum()+voiceMessageReceived['duration'].sum())+' seconds of voice messages','font':{'size':titleFontSize}, 'position':'bottom center'}\n",
    "fig.update_layout(piecolorway=['rgb(36,122,253)','rgb(254, 70, 165)'], height=650,\n",
    "                  font_family=\"Calibri\", title_font_family=\"Calibri\", font_size=fontSize, title_font_size=titleFontSize*1.5,\n",
    "                  title={'text':'In total you\\'ve sent and received', 'y':0.95, 'x':0.5, 'xanchor': 'center', 'yanchor': 'top'})\n",
    "\n",
    "\n",
    "fig.show()"
   ]
  },
  {
   "cell_type": "code",
   "execution_count": null,
   "metadata": {
    "scrolled": false
   },
   "outputs": [],
   "source": [
    "fig = px.pie(values=list(cleanedContentTypes.values()),names=list(cleanedContentTypes), height=650)\n",
    "\n",
    "fig['data'][0]['sort']=True\n",
    "fig['data'][0]['rotation']=90\n",
    "fig['data'][0]['direction']='clockwise'\n",
    "fig.update_layout(font_family=\"Calibri\", title_font_family=\"Calibri\", font_size=fontSize, title_font_size=titleFontSize,\n",
    "                  title={'text':'You\\'ve sent ' + str(len(sentMessages))+ ' messages and used them like this:', 'y':0.97, 'x':0.475, 'xanchor': 'center', 'yanchor': 'top'})\n",
    "\n",
    "fig.show()"
   ]
  },
  {
   "cell_type": "code",
   "execution_count": null,
   "metadata": {},
   "outputs": [],
   "source": [
    "fig = px.line(totalMessagesPerHour,x='time',y=['Sent','Received','Total'], title='Messages by Daytime',\n",
    "              color_discrete_sequence=['rgb(36,122,253)',\"rgb(254, 70, 165)\",\"rgb(255,171,15)\"],height=600)\n",
    "\n",
    "fig['layout']['xaxis']['title']['text']='<b>Time</b>'\n",
    "fig['layout']['yaxis']['title']['text']='</b>Messages/Hour</b>'\n",
    "fig.update_layout(font_family=\"Calibri\", title_font_family=\"Calibri\", font_size=fontSize, title_font_size=titleFontSize)\n",
    "\n",
    "fig.show()"
   ]
  },
  {
   "cell_type": "code",
   "execution_count": null,
   "metadata": {},
   "outputs": [],
   "source": [
    "fig = px.bar(messagesPerWeekday,title='Messages by Weekday',color_discrete_sequence=[\"rgb(255,171,15)\"], height=500)\n",
    "\n",
    "fig['data'][0]['x']=np.array(['Monday','Tuesday','Wednesday','Thursday','Friday','Saturday','Sunday'])\n",
    "fig['layout']['xaxis']['title']['text']='<b>Weekday</b>'\n",
    "fig['layout']['yaxis']['title']['text']='<b>Average Messages</b>'\n",
    "fig.update_layout(font_family=\"Calibri\", title_font_family=\"Calibri\", font_size=fontSize, title_font_size=titleFontSize, showlegend=False)\n",
    "\n",
    "fig.show()"
   ]
  },
  {
   "cell_type": "code",
   "execution_count": null,
   "metadata": {
    "scrolled": false
   },
   "outputs": [],
   "source": [
    "mostFrequentChats = frequentChats.head(topNChats)\n",
    "\n",
    "fig = px.bar(mostFrequentChats,x='name',y=['sent','received'],\n",
    "             labels={\"x\": \"name\",\"y\": \"Messages\"},title='Most frequent chats',\n",
    "             color_discrete_sequence=['rgb(36,122,253)',\"rgb(254, 70, 165)\"], height=600)\n",
    "\n",
    "fig['layout']['xaxis']['title']['text']='<b>Chat</b>'\n",
    "fig['layout']['yaxis']['title']['text']='<b>Messages</b>'\n",
    "fig['data'][0]['customdata']=mostFrequentChats\n",
    "fig['data'][1]['customdata']=mostFrequentChats\n",
    "fig['data'][0]['hovertemplate']='<b>%{x}</b><br><b>Sent: %{customdata[2]}</b><br>Received: %{customdata[3]}<br>Total: %{customdata[4]}<extra></extra>'\n",
    "fig['data'][1]['hovertemplate']='<b>%{x}</b><br>Sent: %{customdata[2]}<br><b>Received: %{customdata[3]}</b><br>Total: %{customdata[4]}<extra></extra>'\n",
    "fig.update_layout(font_family=\"Calibri\", title_font_family=\"Calibri\", font_size=fontSize, title_font_size=titleFontSize)\n",
    "\n",
    "fig.show()"
   ]
  },
  {
   "cell_type": "code",
   "execution_count": null,
   "metadata": {},
   "outputs": [],
   "source": [
    "fig = px.bar(voiceMessages,y=['Sent','Received'],labels={\"x\": \"Chat\",\"y\": \"Messages\"},\n",
    "             title='Total Voice Message Duration', color_discrete_sequence=['rgb(36,122,253)',\"rgb(254, 70, 165)\"], height=600)\n",
    "\n",
    "fig['layout']['xaxis']['title']['text']='<b>Chat</b>'\n",
    "fig['layout']['yaxis']['title']['text']='<b>Duration in Seconds</b>'\n",
    "fig.update_layout(font_family=\"Calibri\", title_font_family=\"Calibri\", font_size=fontSize, title_font_size=titleFontSize)\n",
    "\n",
    "fig.show()"
   ]
  },
  {
   "cell_type": "code",
   "execution_count": null,
   "metadata": {
    "scrolled": false
   },
   "outputs": [],
   "source": [
    "mostFrequentMessages = frequentMessages.head(topNMessages)\n",
    "\n",
    "fig = px.bar(mostFrequentMessages,x='text',y='count',            \n",
    "            labels={\"x\": \"Message\",\"y\": \"Count\"},title='Most frequently sent messages',\n",
    "            color_discrete_sequence=['rgb(36,122,253)'])\n",
    "\n",
    "fig['layout']['xaxis']['title']['text']='<b>Message</b>'\n",
    "fig['layout']['yaxis']['title']['text']='<b>Count</b>'\n",
    "fig.update_layout(font_family=\"Calibri\", title_font_family=\"Calibri\", font_size=fontSize, title_font_size=titleFontSize)\n",
    "\n",
    "fig.show()"
   ]
  },
  {
   "cell_type": "code",
   "execution_count": null,
   "metadata": {},
   "outputs": [],
   "source": [
    "fig = px.bar(frequentEmojis,x='emoji',y='count', labels={\"x\": \"Emoni\",\"y\": \"Count\"},\n",
    "             title='Most frequently used Emojis', color_discrete_sequence=['rgb(36,122,253)'])\n",
    "\n",
    "fig['layout']['xaxis']['title']['text']='<b>Emoji</b>'\n",
    "fig['layout']['yaxis']['title']['text']='<b>Count</b>'\n",
    "fig.update_layout(font_family=\"Calibri\", title_font_family=\"Calibri\", font_size=fontSize, title_font_size=titleFontSize)\n",
    "\n",
    "fig.show()"
   ]
  },
  {
   "cell_type": "code",
   "execution_count": null,
   "metadata": {},
   "outputs": [],
   "source": [
    "mostFrequentStickerEmojis = frequentStickerEmojis.head(topNStickerEmojis)\n",
    "\n",
    "fig = px.bar(mostFrequentStickerEmojis,x='emoji',y='count',            \n",
    "            labels={\"x\": \"Sticker Emoji\",\"y\": \"Count\"},title='Most frequently sent Sticker Emojis',\n",
    "            color_discrete_sequence=['rgb(36,122,253)'])\n",
    "\n",
    "fig['layout']['xaxis']['title']['text']='<b>Sticker Emoji</b>'\n",
    "fig['layout']['yaxis']['title']['text']='<b>Count</b>'\n",
    "fig.update_layout(font_family=\"Calibri\", title_font_family=\"Calibri\", font_size=fontSize, title_font_size=titleFontSize)\n",
    "\n",
    "fig.show()"
   ]
  },
  {
   "cell_type": "code",
   "execution_count": null,
   "metadata": {},
   "outputs": [],
   "source": [
    "print('Funfacts:')\n",
    "print('--------------')\n",
    "# Average Text Length\n",
    "print('Your average text message contains '+str(round(mean([len(text) for text in texts]),2))+' characters.')\n",
    "# Emojis per Message\n",
    "print('Your average text message contains '+str(round(len(emojis)/len(texts),4))+' emojis.')"
   ]
  },
  {
   "cell_type": "code",
   "execution_count": null,
   "metadata": {
    "scrolled": false
   },
   "outputs": [],
   "source": [
    "fig = px.line(messageDateFrequencies, x=\"date\", y=\"count\", title='Messages per day', color_discrete_sequence=['rgb(255,171,15)'])\n",
    "\n",
    "fig.update_layout(font_family=\"Calibri\", title_font_family=\"Calibri\", font_size=fontSize, title_font_size=titleFontSize)\n",
    "\n",
    "fig.show()"
   ]
  },
  {
   "cell_type": "code",
   "execution_count": null,
   "metadata": {
    "scrolled": false
   },
   "outputs": [],
   "source": [
    "fig = px.bar(messageMonthFrequencies,x='date',y='count',title='Total Messages per month', color_discrete_sequence=['rgb(255,171,15)'])\n",
    "\n",
    "fig.update_layout(font_family=\"Calibri\", title_font_family=\"Calibri\", font_size=fontSize, title_font_size=titleFontSize)\n",
    "\n",
    "fig.show()"
   ]
  },
  {
   "cell_type": "code",
   "execution_count": null,
   "metadata": {
    "scrolled": false
   },
   "outputs": [],
   "source": [
    "fig = px.line(messageDatetimes,x='time',y='totalCount', title='Total Messages', color_discrete_sequence=['rgb(255,171,15)'])\n",
    "\n",
    "fig.update_layout(font_family=\"Calibri\", title_font_family=\"Calibri\", font_size=fontSize, title_font_size=titleFontSize)\n",
    "\n",
    "fig.show()"
   ]
  },
  {
   "cell_type": "code",
   "execution_count": null,
   "metadata": {
    "scrolled": false
   },
   "outputs": [],
   "source": [
    "displayedChats=frequentChats['name'][:topNChatDatetimes].values.tolist()\n",
    "topMessageDatetimes = [msg for msg in messageDatetimes if msg['chat'] in displayedChats]\n",
    "\n",
    "fig = px.line(topMessageDatetimes,x='time',y='chatCount',color='chat', title='Messages by chat',height=750)\n",
    "\n",
    "fig['layout']['xaxis']['title']['text']='<b>Time</b>'\n",
    "fig['layout']['yaxis']['title']['text']='<b>Messages</b>'\n",
    "fig.update_layout(font_family=\"Calibri\", title_font_family=\"Calibri\", font_size=fontSize, title_font_size=titleFontSize)\n",
    "\n",
    "fig.show()"
   ]
  }
 ],
 "metadata": {
  "kernelspec": {
   "display_name": "Python 3",
   "language": "python",
   "name": "python3"
  },
  "language_info": {
   "codemirror_mode": {
    "name": "ipython",
    "version": 3
   },
   "file_extension": ".py",
   "mimetype": "text/x-python",
   "name": "python",
   "nbconvert_exporter": "python",
   "pygments_lexer": "ipython3",
   "version": "3.8.5"
  }
 },
 "nbformat": 4,
 "nbformat_minor": 4
}
