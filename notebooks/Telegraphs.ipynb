{
 "cells": [
  {
   "cell_type": "code",
   "execution_count": null,
   "metadata": {},
   "outputs": [],
   "source": [
    "import plotly.express as px\n",
    "import plotly.graph_objs as go\n",
    "import pandas as pd\n",
    "import numpy as np\n",
    "from statistics import mean \n",
    "from IPython.core.display import display, HTML\n",
    "display(HTML(\"<style>.container { width:95% !important; }</style>\"))"
   ]
  },
  {
   "cell_type": "code",
   "execution_count": null,
   "metadata": {},
   "outputs": [],
   "source": [
    "# Your Config changed? Run this again!\n",
    "%run Config.ipynb"
   ]
  },
  {
   "cell_type": "code",
   "execution_count": null,
   "metadata": {},
   "outputs": [],
   "source": [
    "# Your Input Data changed? Run this again!\n",
    "%run TelegramAnalysis.ipynb"
   ]
  },
  {
   "cell_type": "code",
   "execution_count": null,
   "metadata": {
    "scrolled": false
   },
   "outputs": [],
   "source": [
    "fig = px.pie(values=[len(sentPrivateMessages),len(receivedPrivateMessages)], \n",
    "             names=['Sent','Received'], color_discrete_sequence=['rgb(36,122,253)','rgb(254, 70, 165)'],\n",
    "             title='You sent and received a total of '+str(len(sentPrivateMessages)+len(receivedPrivateMessages))+' private messages')\n",
    "fig['data'][0]['sort']=False\n",
    "fig['data'][0]['rotation']=-len(sentPrivateMessages)/(len(sentPrivateMessages)+len(receivedPrivateMessages))*360\n",
    "\n",
    "fig.show()"
   ]
  },
  {
   "cell_type": "code",
   "execution_count": null,
   "metadata": {},
   "outputs": [],
   "source": [
    "fig = px.line(totalMessageTimes,x='time',y=['Sent','Received','Total'],\n",
    "              title='Messages by daytime',labels={'x':'time','y':'Messages/Minute'},\n",
    "              color_discrete_sequence=['rgb(36,122,253)',\"rgb(254, 70, 165)\",\"rgb(255,171,15)\"])\n",
    "fig['layout']['xaxis']['title']['text']='Time'\n",
    "fig['layout']['yaxis']['title']['text']='Messages/Minute'\n",
    "\n",
    "fig.show()"
   ]
  },
  {
   "cell_type": "code",
   "execution_count": null,
   "metadata": {},
   "outputs": [],
   "source": [
    "fig = px.bar(messagesPerWeekday,title='Average Messages per Weekday',color_discrete_sequence=[\"rgb(255,171,15)\"])\n",
    "fig['data'][0]['x']=np.array(['Monday','Tuesday','Wednesday','Thursday','Friday','Saturday','Sunday'])\n",
    "fig['layout']['xaxis']['title']['text']='Weekday'\n",
    "fig['layout']['yaxis']['title']['text']='Average Messages'\n",
    "fig.update_layout(showlegend=False)\n",
    "\n",
    "fig.show()"
   ]
  },
  {
   "cell_type": "code",
   "execution_count": null,
   "metadata": {
    "scrolled": false
   },
   "outputs": [],
   "source": [
    "mostFrequentChats = frequentChats.head(topNChats)\n",
    "fig = px.bar(mostFrequentChats,x='name',y=['sent','received'], \n",
    "             labels={\"x\": \"name\",\"y\": \"Messages\"},title='Most frequent chats',\n",
    "             color_discrete_sequence=['rgb(36,122,253)',\"rgb(254, 70, 165)\"])\n",
    "fig['layout']['xaxis']['title']['text']='Chat'\n",
    "fig['layout']['yaxis']['title']['text']='Messages'\n",
    "fig['data'][0]['customdata']=mostFrequentChats\n",
    "fig['data'][1]['customdata']=mostFrequentChats\n",
    "fig['data'][0]['hovertemplate']='<b>%{x}</b><br><b>Sent: %{customdata[2]}</b><br>Received: %{customdata[3]}<br>Total: %{customdata[4]}<extra></extra>'\n",
    "fig['data'][1]['hovertemplate']='<b>%{x}</b><br>Sent: %{customdata[2]}<br><b>Received: %{customdata[3]}</b><br>Total: %{customdata[4]}<extra></extra>'\n",
    "\n",
    "fig.show()"
   ]
  },
  {
   "cell_type": "code",
   "execution_count": null,
   "metadata": {},
   "outputs": [],
   "source": [
    "fig = px.bar(voiceMessages,y=['Sent','Received'], \n",
    "             labels={\"x\": \"Chat\",\"y\": \"Messages\"},title='Total Voice Message Duration',\n",
    "             color_discrete_sequence=['rgb(36,122,253)',\"rgb(254, 70, 165)\"])\n",
    "fig['layout']['xaxis']['title']['text']='Chat'\n",
    "fig['layout']['yaxis']['title']['text']='Duration in Seconds'\n",
    "\n",
    "fig.show()"
   ]
  },
  {
   "cell_type": "code",
   "execution_count": null,
   "metadata": {
    "scrolled": false
   },
   "outputs": [],
   "source": [
    "mostFrequentMessages = frequentMessages.head(topNMessages)\n",
    "fig = px.bar(mostFrequentMessages,x='text',y='count',            \n",
    "            labels={\"x\": \"Message\",\"y\": \"Count\"},title='Most frequently sent messages',\n",
    "            color_discrete_sequence=['rgb(36,122,253)'])\n",
    "fig['layout']['xaxis']['title']['text']='Message'\n",
    "fig['layout']['yaxis']['title']['text']='Count'\n",
    "\n",
    "fig.show()"
   ]
  },
  {
   "cell_type": "code",
   "execution_count": null,
   "metadata": {},
   "outputs": [],
   "source": [
    "fig = px.bar(frequentEmojis,x='emoji',y='count',            \n",
    "            labels={\"x\": \"Emoni\",\"y\": \"Count\"},title='Most frequently sent Emojis',\n",
    "            color_discrete_sequence=['rgb(36,122,253)'])\n",
    "fig['layout']['xaxis']['title']['text']='Emoji'\n",
    "fig['layout']['yaxis']['title']['text']='Count'\n",
    "\n",
    "fig.show()"
   ]
  },
  {
   "cell_type": "code",
   "execution_count": null,
   "metadata": {},
   "outputs": [],
   "source": [
    "mostFrequentStickerEmojis = frequentStickerEmojis.head(topNStickerEmojis)\n",
    "fig = px.bar(mostFrequentStickerEmojis,x='emoji',y='count',            \n",
    "            labels={\"x\": \"Sticker Emoji\",\"y\": \"Count\"},title='Most frequently sent Sticker Emojis',\n",
    "            color_discrete_sequence=['rgb(36,122,253)'])\n",
    "fig['layout']['xaxis']['title']['text']='Sticker Emoji'\n",
    "fig['layout']['yaxis']['title']['text']='Count'\n",
    "\n",
    "fig.show()"
   ]
  },
  {
   "cell_type": "code",
   "execution_count": null,
   "metadata": {},
   "outputs": [],
   "source": [
    "print('Funfacts:')\n",
    "print('--------------')\n",
    "# Average Text Length\n",
    "print('Your average text message contains '+str(round(mean([len(text) for text in texts]),2))+' characters.')\n",
    "# Emojis per Message\n",
    "print('Your average text message contains '+str(round(len(emojis)/len(texts),4))+' emojis.')"
   ]
  },
  {
   "cell_type": "code",
   "execution_count": null,
   "metadata": {
    "scrolled": false
   },
   "outputs": [],
   "source": [
    "fig = px.line(messageDateFrequencies, x=\"date\", y=\"count\", title='Messages per day',\n",
    "              color_discrete_sequence=['rgb(255,171,15)'])\n",
    "\n",
    "fig.show()"
   ]
  },
  {
   "cell_type": "code",
   "execution_count": null,
   "metadata": {
    "scrolled": false
   },
   "outputs": [],
   "source": [
    "fig = px.bar(messageMonthFrequencies,x='date',y='count',title='Total Messages per month',\n",
    "             color_discrete_sequence=['rgb(255,171,15)'])\n",
    "\n",
    "fig.show()"
   ]
  },
  {
   "cell_type": "code",
   "execution_count": null,
   "metadata": {
    "scrolled": false
   },
   "outputs": [],
   "source": [
    "fig = px.line(messageDatetimes,x='time',y='totalCount', title='Total Messages',\n",
    "             color_discrete_sequence=['rgb(255,171,15)'])\n",
    "fig.show()"
   ]
  },
  {
   "cell_type": "code",
   "execution_count": null,
   "metadata": {
    "scrolled": false
   },
   "outputs": [],
   "source": [
    "displayedChats=frequentChats['name'][:topNChatDatetimes].values.tolist()\n",
    "topMessageDatetimes = [msg for msg in messageDatetimes if msg['chat'] in displayedChats]\n",
    "\n",
    "fig = px.line(topMessageDatetimes,x='time',y='chatCount',color='chat', title='Messages by chat')\n",
    "fig['layout']['xaxis']['title']['text']='Time'\n",
    "fig['layout']['yaxis']['title']['text']='Messages'\n",
    "\n",
    "fig.show()"
   ]
  }
 ],
 "metadata": {
  "kernelspec": {
   "display_name": "Python 3",
   "language": "python",
   "name": "python3"
  },
  "language_info": {
   "codemirror_mode": {
    "name": "ipython",
    "version": 3
   },
   "file_extension": ".py",
   "mimetype": "text/x-python",
   "name": "python",
   "nbconvert_exporter": "python",
   "pygments_lexer": "ipython3",
   "version": "3.8.5"
  }
 },
 "nbformat": 4,
 "nbformat_minor": 4
}
