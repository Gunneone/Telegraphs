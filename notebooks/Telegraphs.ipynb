{
 "cells": [
  {
   "cell_type": "code",
   "execution_count": null,
   "metadata": {
    "scrolled": true
   },
   "outputs": [],
   "source": [
    "import plotly.express as px\n",
    "import plotly.graph_objs as go\n",
    "from plotly.subplots import make_subplots\n",
    "import pandas as pd\n",
    "import numpy as np\n",
    "from IPython.core.display import display, HTML\n",
    "display(HTML(\"<style>.container { width:95% !important; }</style>\"))"
   ]
  },
  {
   "cell_type": "code",
   "execution_count": null,
   "metadata": {
    "scrolled": true
   },
   "outputs": [],
   "source": [
    "# Your Config or Input Data changed? Run this again!\n",
    "%run TelegramAnalysis.ipynb"
   ]
  },
  {
   "cell_type": "code",
   "execution_count": null,
   "metadata": {
    "scrolled": false
   },
   "outputs": [],
   "source": [
    "fig = make_subplots(rows=1, cols=2, specs=[[{'type':'domain'}, {'type':'domain'}]])\n",
    "fig.add_trace(go.Pie(values=[len(sentPrivateMessages),len(receivedPrivateMessages)],labels=['Sent','Received'], \n",
    "                     hovertemplate='%{label}: %{value}<br>%{percent}<extra></extra>',\n",
    "                     sort=False,rotation=-len(sentPrivateMessages)/(len(sentPrivateMessages)+len(receivedPrivateMessages))*360),1,1)\n",
    "fig.add_trace(go.Pie(values=[voiceMessageSent['duration'].sum(),voiceMessageReceived['duration'].sum()], labels=['Sent','Received'],\n",
    "                     hovertemplate='%{label}: %{value}<br>%{percent}<extra></extra>',\n",
    "                     sort=False,rotation=-voiceMessageSent['duration'].sum()/(voiceMessageSent['duration'].sum()+voiceMessageReceived['duration'].sum())*360),1,2)\n",
    "\n",
    "fig['data'][0]['title']={'text': str(len(sentPrivateMessages)+len(receivedPrivateMessages))+' direct messages','font':{'size':titleFontSize}, 'position':'bottom center'}\n",
    "fig['data'][1]['title']={'text': str(voiceMessageSent['duration'].sum()+voiceMessageReceived['duration'].sum())+' seconds of voice messages','font':{'size':titleFontSize}, 'position':'bottom center'}\n",
    "fig.update_layout(piecolorway=['rgb(36,122,253)','rgb(254, 70, 165)'], height=650, showlegend=False,\n",
    "                  font_family=\"Calibri\", title_font_family=\"Calibri\", font_size=fontSize, title_font_size=titleFontSize*1.5,\n",
    "                  title={'text':'In total you have <span style=\"color:rgb(36,122,253)\">sent</span> and <span style=\"color:rgb(254, 70, 165)\">received</span>', 'y':0.95, 'x':0.5, 'xanchor': 'center', 'yanchor': 'top'})\n",
    "\n",
    "\n",
    "fig.show()"
   ]
  },
  {
   "cell_type": "code",
   "execution_count": null,
   "metadata": {
    "scrolled": false
   },
   "outputs": [],
   "source": [
    "fig = px.pie(values=list(cleanedContentTypes.values()),names=list(cleanedContentTypes), height=650)\n",
    "\n",
    "fig['data'][0]['sort']=True\n",
    "fig['data'][0]['rotation']=90\n",
    "fig['data'][0]['direction']='clockwise'\n",
    "fig.update_layout(font_family=\"Calibri\", title_font_family=\"Calibri\", font_size=fontSize, title_font_size=titleFontSize,\n",
    "                  title={'text':'You\\'ve sent ' + str(len(sentMessages))+ ' messages and used them like this:', 'y':0.97, 'x':0.475, 'xanchor': 'center', 'yanchor': 'top'})\n",
    "\n",
    "fig.show()"
   ]
  },
  {
   "cell_type": "code",
   "execution_count": null,
   "metadata": {
    "scrolled": false
   },
   "outputs": [],
   "source": [
    "fig = px.line(totalMessagesPerHour,x='Time',y=['Sent','Received','Total'], title='Your average Day',\n",
    "              color_discrete_sequence=['rgb(36,122,253)',\"rgb(254, 70, 165)\",\"rgb(255,171,15)\"],height=600)\n",
    "\n",
    "fig['layout']['xaxis']['title']['text']='<b>Time</b>'\n",
    "fig['layout']['yaxis']['title']['text']='</b>Messages/Hour</b>'\n",
    "fig.update_layout(font_family=\"Calibri\", title_font_family=\"Calibri\", font_size=fontSize, title_font_size=titleFontSize)\n",
    "fig.update_xaxes(nticks=24)\n",
    "\n",
    "fig.show()"
   ]
  },
  {
   "cell_type": "code",
   "execution_count": null,
   "metadata": {
    "scrolled": false
   },
   "outputs": [],
   "source": [
    "fig = px.bar(messagesPerWeekday,x='Weekday', y='perDay', title='Your average Week',color_discrete_sequence=[\"rgb(255,171,15)\"], height=500)\n",
    "\n",
    "fig['layout']['xaxis']['title']['text']='<b>Weekday</b>'\n",
    "fig['layout']['yaxis']['title']['text']='<b>Messages/Day</b>'\n",
    "fig.update_layout(font_family=\"Calibri\", title_font_family=\"Calibri\", font_size=fontSize, title_font_size=titleFontSize, showlegend=False)\n",
    "\n",
    "fig.show()"
   ]
  },
  {
   "cell_type": "code",
   "execution_count": null,
   "metadata": {
    "scrolled": false
   },
   "outputs": [],
   "source": [
    "fig = px.bar(messagesPerMonth,x='Month', y='perDay', title='Your average Year',color_discrete_sequence=[\"rgb(255,171,15)\"], height=500)\n",
    "\n",
    "fig['layout']['xaxis']['title']['text']='<b>Month</b>'\n",
    "fig['layout']['yaxis']['title']['text']='<b>Messages/Day</b>'\n",
    "fig.update_layout(font_family=\"Calibri\", title_font_family=\"Calibri\", font_size=fontSize, title_font_size=titleFontSize, showlegend=False)\n",
    "\n",
    "fig.show()"
   ]
  },
  {
   "cell_type": "code",
   "execution_count": null,
   "metadata": {
    "scrolled": false
   },
   "outputs": [],
   "source": [
    "fig = px.bar(messageMonthFrequencies,x='Month',y='Count',title='Your Life (since using Telegram)', color_discrete_sequence=['rgb(255,171,15)'])\n",
    "\n",
    "fig.update_layout(font_family=\"Calibri\", title_font_family=\"Calibri\", font_size=fontSize, title_font_size=titleFontSize)\n",
    "fig['layout']['xaxis']['title']['text']='<b>Month</b>'\n",
    "fig['layout']['yaxis']['title']['text']='<b>Total Messages</b>'\n",
    "\n",
    "fig.show()"
   ]
  },
  {
   "cell_type": "code",
   "execution_count": null,
   "metadata": {
    "scrolled": false
   },
   "outputs": [],
   "source": [
    "mostFrequentChats = frequentChats.head(topNChats*2)\n",
    "\n",
    "fig = px.bar(mostFrequentChats,x='name',y=['sent','received'],\n",
    "             labels={\"x\": \"name\",\"y\": \"Messages\"},title='Most frequent chats',\n",
    "             color_discrete_sequence=['rgb(36,122,253)',\"rgb(254, 70, 165)\"], height=600)\n",
    "\n",
    "fig['layout']['xaxis']['title']['text']='<b>Chat</b>'\n",
    "fig['layout']['xaxis']['range']=[-0.5,topNChats-0.5]\n",
    "fig['layout']['yaxis']['title']['text']='<b>Messages</b>'\n",
    "fig['data'][0]['customdata']=mostFrequentChats\n",
    "fig['data'][1]['customdata']=mostFrequentChats\n",
    "fig['data'][0]['hovertemplate']='<b>%{x}</b><br><b>Sent: %{customdata[2]}</b><br>Received: %{customdata[3]}<br>Total: %{customdata[4]}<extra></extra>'\n",
    "fig['data'][1]['hovertemplate']='<b>%{x}</b><br>Sent: %{customdata[2]}<br><b>Received: %{customdata[3]}</b><br>Total: %{customdata[4]}<extra></extra>'\n",
    "fig.update_layout(font_family=\"Calibri\", title_font_family=\"Calibri\", font_size=fontSize, title_font_size=titleFontSize)\n",
    "\n",
    "fig.show()"
   ]
  },
  {
   "cell_type": "code",
   "execution_count": null,
   "metadata": {
    "scrolled": false
   },
   "outputs": [],
   "source": [
    "fig = px.bar(voiceMessages,y=['Sent','Received'],labels={\"x\": \"Chat\",\"y\": \"Messages\"},\n",
    "             title='Total Voice Message Duration', color_discrete_sequence=['rgb(36,122,253)',\"rgb(254, 70, 165)\"], height=600)\n",
    "\n",
    "fig['layout']['xaxis']['title']['text']='<b>Chat</b>'\n",
    "fig['layout']['yaxis']['title']['text']='<b>Duration in Seconds</b>'\n",
    "fig.update_layout(font_family=\"Calibri\", title_font_family=\"Calibri\", font_size=fontSize, title_font_size=titleFontSize)\n",
    "\n",
    "fig.show()"
   ]
  },
  {
   "cell_type": "code",
   "execution_count": null,
   "metadata": {
    "scrolled": false
   },
   "outputs": [],
   "source": [
    "mostFrequentMessages = frequentMessages.head(topNMessages*2)\n",
    "\n",
    "fig = px.bar(mostFrequentMessages,x='Text',y='Count',            \n",
    "            labels={\"x\": \"Message\",\"y\": \"Count\"},title='Most frequently sent messages',\n",
    "            color_discrete_sequence=['rgb(36,122,253)'],height=600)\n",
    "\n",
    "fig['layout']['xaxis']['title']['text']='<b>Message</b>'\n",
    "fig['layout']['xaxis']['range']=[-0.5,topNMessages-0.5]\n",
    "fig['layout']['yaxis']['title']['text']='<b>Count</b>'\n",
    "fig.update_layout(font_family=\"Calibri\", title_font_family=\"Calibri\", font_size=fontSize, title_font_size=titleFontSize)\n",
    "\n",
    "fig.show()"
   ]
  },
  {
   "cell_type": "code",
   "execution_count": null,
   "metadata": {
    "scrolled": false
   },
   "outputs": [],
   "source": [
    "mostFrequentEmojis=pd.DataFrame(frequentEmojis).head(topNEmojis*2)\n",
    "\n",
    "fig = px.bar(mostFrequentEmojis,x='Emoji',y='Count', labels={\"x\": \"Emoni\",\"y\": \"Count\"},\n",
    "             title='Most frequently used Emojis', color_discrete_sequence=['rgb(36,122,253)'])\n",
    "\n",
    "fig['layout']['xaxis']['title']['text']='<b>Emoji</b>'\n",
    "fig['layout']['xaxis']['range']=[-0.5,topNEmojis-0.5]\n",
    "fig['layout']['yaxis']['title']['text']='<b>Count</b>'\n",
    "fig.update_layout(font_family=\"Calibri\", title_font_family=\"Calibri\", font_size=fontSize, title_font_size=titleFontSize)\n",
    "\n",
    "fig.show()"
   ]
  },
  {
   "cell_type": "code",
   "execution_count": null,
   "metadata": {
    "scrolled": false
   },
   "outputs": [],
   "source": [
    "mostFrequentStickerEmojis = frequentStickerEmojis.head(topNStickerEmojis*2)\n",
    "\n",
    "fig = px.bar(mostFrequentStickerEmojis,x='Emoji',y='Count',            \n",
    "            labels={\"x\": \"Sticker Emoji\",\"y\": \"Count\"},title='Most frequently sent Sticker Emojis',\n",
    "            color_discrete_sequence=['rgb(36,122,253)'])\n",
    "\n",
    "fig['layout']['xaxis']['title']['text']='<b>Sticker Emoji</b>'\n",
    "fig['layout']['xaxis']['range']=[-0.5,topNStickerEmojis-0.5]\n",
    "fig['layout']['yaxis']['title']['text']='<b>Count</b>'\n",
    "fig.update_layout(font_family=\"Calibri\", title_font_family=\"Calibri\", font_size=fontSize, title_font_size=titleFontSize)\n",
    "\n",
    "fig.show()"
   ]
  },
  {
   "cell_type": "code",
   "execution_count": null,
   "metadata": {
    "scrolled": false
   },
   "outputs": [],
   "source": [
    "if sentStickerQuantities['Sticker'].iloc[0]!='(File not included. Change data exporting settings to download.)':\n",
    "    mostFrequentStickers = sentStickerQuantities.head(topNStickers*3)\n",
    "\n",
    "    fig = px.bar(mostFrequentStickers,x='Sticker',y='Count',            \n",
    "                labels={\"x\": \"Sticker\",\"y\": \"Count\"},title='Most frequently sent Stickers',\n",
    "                color_discrete_sequence=['rgb(36,122,253)'],height=650)\n",
    "\n",
    "    images=[]\n",
    "    for i,path in enumerate(mostFrequentStickers['Sticker']):\n",
    "        images.append(dict(source=path,\n",
    "                               xref='x', yref='paper',\n",
    "                               x=i, y=0.005,\n",
    "                               sizex=0.6, sizey=0.6,\n",
    "                               xanchor='center',\n",
    "                               yanchor='bottom'))\n",
    "\n",
    "    fig['layout']['xaxis']['title']['text']='<b>Sticker</b>'\n",
    "    fig['layout']['xaxis']['showticklabels']=False\n",
    "    fig['layout']['xaxis']['range']=[-0.5,topNStickers-0.5]\n",
    "    fig['layout']['yaxis']['title']['text']='<b>Count</b>'\n",
    "    fig.update_layout(font_family=\"Calibri\", title_font_family=\"Calibri\", font_size=fontSize, title_font_size=titleFontSize,images=images)\n",
    "\n",
    "    fig.show()\n",
    "else:\n",
    "    print('\\033[1mStickers don\\'t seem to be included in the export. \\nIf you want to show your most frequently sent stickers, make sure to check the Stickers-box in the media export settings. ')"
   ]
  },
  {
   "cell_type": "code",
   "execution_count": null,
   "metadata": {
    "scrolled": true
   },
   "outputs": [],
   "source": [
    "print('Funfacts:')\n",
    "print('--------------')\n",
    "# First Sent Message\n",
    "print('Your first sent text message ever was \\\"'+str(firstSentMessage.get('text'))+'\\\" to '+str(firstSentMessage.get('chat'))+' on '+str(firstSentMessage.get('datetime'))[0:10]+' at '+str(firstSentMessage.get('datetime'))[11:16]+'.')\n",
    "# First Received Message\n",
    "print('Your first received text message ever was \\\"'+str(firstReceivedMessage.get('text'))+'\\\" from '+str(firstReceivedMessage.get('chat'))+' on '+str(firstReceivedMessage.get('datetime'))[0:10]+' at '+str(firstReceivedMessage.get('datetime'))[11:16]+'.')\n",
    "# Average Text Length\n",
    "print('Your average text message contains '+str(round(sum([len(text) for text in texts])/len(texts),2))+' characters.')\n",
    "# Emojis per Message\n",
    "print('Your average text message contains '+str(round(len(emojis)/len(texts),4))+' emojis.')"
   ]
  },
  {
   "cell_type": "code",
   "execution_count": null,
   "metadata": {
    "scrolled": false
   },
   "outputs": [],
   "source": [
    "fig = px.line(messageDateFrequencies, x=\"Date\", y=\"Count\", title='Messages per day', color_discrete_sequence=['rgb(255,171,15)'])\n",
    "\n",
    "fig.update_layout(font_family=\"Calibri\", title_font_family=\"Calibri\", font_size=fontSize, title_font_size=titleFontSize)\n",
    "\n",
    "fig.show()"
   ]
  },
  {
   "cell_type": "code",
   "execution_count": null,
   "metadata": {
    "scrolled": false
   },
   "outputs": [],
   "source": [
    "displayedChats=frequentChats['name'][:topNChatDatetimes].values.tolist()\n",
    "topMessageDatetimes = [msg for msg in messageDatetimes if msg['chat'] in displayedChats]\n",
    "\n",
    "fig = px.line(topMessageDatetimes,x='time',y='chatCount',color='chat', title='Messages by chat',height=750)\n",
    "\n",
    "fig['layout']['xaxis']['title']['text']='<b>Time</b>'\n",
    "fig['layout']['yaxis']['title']['text']='<b>Messages</b>'\n",
    "fig.update_layout(font_family=\"Calibri\", title_font_family=\"Calibri\", font_size=fontSize, title_font_size=titleFontSize)\n",
    "\n",
    "fig.show()"
   ]
  }
 ],
 "metadata": {
  "kernelspec": {
   "display_name": "Python 3",
   "language": "python",
   "name": "python3"
  },
  "language_info": {
   "codemirror_mode": {
    "name": "ipython",
    "version": 3
   },
   "file_extension": ".py",
   "mimetype": "text/x-python",
   "name": "python",
   "nbconvert_exporter": "python",
   "pygments_lexer": "ipython3",
   "version": "3.8.8"
  }
 },
 "nbformat": 4,
 "nbformat_minor": 4
}
