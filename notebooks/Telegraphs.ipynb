{
 "cells": [
  {
   "cell_type": "code",
   "execution_count": null,
   "metadata": {},
   "outputs": [],
   "source": [
    "import plotly.express as px\n",
    "import plotly.graph_objs as go\n",
    "import pandas as pd\n",
    "import numpy as np\n",
    "from statistics import mean "
   ]
  },
  {
   "cell_type": "code",
   "execution_count": null,
   "metadata": {},
   "outputs": [],
   "source": [
    "%run Config.ipynb"
   ]
  },
  {
   "cell_type": "code",
   "execution_count": null,
   "metadata": {},
   "outputs": [],
   "source": [
    "%run TelegramAnalysis.ipynb"
   ]
  },
  {
   "cell_type": "code",
   "execution_count": null,
   "metadata": {
    "scrolled": false
   },
   "outputs": [],
   "source": [
    "fig = px.pie(values=[len(sentPrivateMessages),len(receivedPrivateMessages)], \n",
    "             names=['Sent','Received'], color_discrete_sequence=[\"rgb(254, 70, 165)\",'rgb(36,122,253)'],\n",
    "             title='You sent and received a total of '+str(len(sentPrivateMessages)+len(receivedPrivateMessages))+' private messages')\n",
    "fig.show()"
   ]
  },
  {
   "cell_type": "code",
   "execution_count": null,
   "metadata": {},
   "outputs": [],
   "source": [
    "fig = px.line(totalMessageTimes,x='time',y=['Sent','Received','Total'],\n",
    "              title='Messages by daytime',labels={'x':'time','y':'Messages/Minute'},\n",
    "              color_discrete_sequence=['rgb(36,122,253)',\"rgb(254, 70, 165)\",\"rgb(255,171,15)\"])\n",
    "              \n",
    "\n",
    "fig['layout']['xaxis']['title']['text']='Time'\n",
    "fig['layout']['yaxis']['title']['text']='Messages/Minute'\n",
    "fig.show()\n",
    "\n",
    "#print(fig)\n",
    "\n",
    "#totalMessageTimes"
   ]
  },
  {
   "cell_type": "code",
   "execution_count": null,
   "metadata": {},
   "outputs": [],
   "source": [
    "fig = px.bar(messagesPerWeekday,title='Average Messages per Weekday',color_discrete_sequence=[\"rgb(255,171,15)\"])\n",
    "fig['data'][0]['x']=np.array(['Monday','Tuesday','Wednesday','Thursday','Friday','Saturday','Sunday'])\n",
    "fig['layout']['xaxis']['title']['text']='Weekday'\n",
    "fig['layout']['yaxis']['title']['text']='Average Messages'\n",
    "fig.update_layout(showlegend=False)\n",
    "fig.show()"
   ]
  },
  {
   "cell_type": "code",
   "execution_count": null,
   "metadata": {
    "scrolled": false
   },
   "outputs": [],
   "source": [
    "fig = px.bar(frequentChats,x='id',y=['sent','received'], \n",
    "             labels={\"x\": \"name\",\"y\": \"Messages\"},title='Most frequent chats',\n",
    "             color_discrete_sequence=['rgb(36,122,253)',\"rgb(254, 70, 165)\"])\n",
    "fig['data'][0]['x']=np.array(frequentChats['name'])\n",
    "fig['data'][1]['x']=np.array(frequentChats['name'])\n",
    "fig['layout']['xaxis']['title']['text']='Chat'\n",
    "fig['layout']['yaxis']['title']['text']='Messages'\n",
    "fig.show()"
   ]
  },
  {
   "cell_type": "code",
   "execution_count": null,
   "metadata": {
    "scrolled": false
   },
   "outputs": [],
   "source": [
    "fig = px.bar(frequentMessages,x='text',y='count',            \n",
    "            labels={\"x\": \"Message\",\"y\": \"Count\"},title='Most frequently sent messages',\n",
    "            color_discrete_sequence=['rgb(36,122,253)'])\n",
    "fig['layout']['xaxis']['title']['text']='Message'\n",
    "fig['layout']['yaxis']['title']['text']='Count'\n",
    "fig.show()"
   ]
  },
  {
   "cell_type": "code",
   "execution_count": null,
   "metadata": {},
   "outputs": [],
   "source": [
    "fig = px.bar(frequentEmojis,x='emoji',y='count',            \n",
    "            labels={\"x\": \"Emoni\",\"y\": \"Count\"},title='Most frequently sent Emojis',\n",
    "            color_discrete_sequence=['rgb(36,122,253)'])\n",
    "fig['layout']['xaxis']['title']['text']='Emoji'\n",
    "fig['layout']['yaxis']['title']['text']='Count'\n",
    "fig.show()"
   ]
  },
  {
   "cell_type": "code",
   "execution_count": null,
   "metadata": {},
   "outputs": [],
   "source": [
    "fig = px.bar(frequentStickerEmojis,x='emoji',y='count',            \n",
    "            labels={\"x\": \"Sticker Emoji\",\"y\": \"Count\"},title='Most frequently sent Sticker Emojis',\n",
    "            color_discrete_sequence=['rgb(36,122,253)'])\n",
    "fig['layout']['xaxis']['title']['text']='Sticker Emoji'\n",
    "fig['layout']['yaxis']['title']['text']='Count'\n",
    "fig.show()"
   ]
  },
  {
   "cell_type": "code",
   "execution_count": null,
   "metadata": {},
   "outputs": [],
   "source": [
    "# Average Text Length\n",
    "print('Your average text message contains '+str(round(mean([len(text) for text in texts]),2))+' characters.')\n",
    "# Emojis per Message\n",
    "print('Your average text message contains '+str(round(len(emojis)/len(texts),4))+' emojis.')"
   ]
  },
  {
   "cell_type": "code",
   "execution_count": null,
   "metadata": {
    "scrolled": false
   },
   "outputs": [],
   "source": [
    "fig = px.line(messageDateFrequencies, x=\"date\", y=\"count\", title='Messages per day',\n",
    "              color_discrete_sequence=['rgb(255,171,15)'])\n",
    "fig.show()"
   ]
  },
  {
   "cell_type": "code",
   "execution_count": null,
   "metadata": {
    "scrolled": false
   },
   "outputs": [],
   "source": [
    "fig = px.bar(messageMonthFrequencies,x='date',y='count',title='Total Messages per month',\n",
    "             color_discrete_sequence=['rgb(255,171,15)'])\n",
    "fig.show()"
   ]
  },
  {
   "cell_type": "code",
   "execution_count": null,
   "metadata": {
    "scrolled": false
   },
   "outputs": [],
   "source": [
    "fig = px.line(messageDatetimes,x='time',y='totalCount', title='Total Messages',\n",
    "             color_discrete_sequence=['rgb(255,171,15)'])\n",
    "fig.show()"
   ]
  },
  {
   "cell_type": "code",
   "execution_count": null,
   "metadata": {
    "scrolled": false
   },
   "outputs": [],
   "source": [
    "displayedChats=frequentChats['name'][:topNChatDatetimes].values.tolist()\n",
    "topMessageDatetimes = [msg for msg in messageDatetimes if msg['chat'] in displayedChats]\n",
    "\n",
    "fig = px.line(topMessageDatetimes,x='time',y='chatCount',color='chat', title='Messages by chat')\n",
    "fig['layout']['xaxis']['title']['text']='Time'\n",
    "fig['layout']['yaxis']['title']['text']='Messages'\n",
    "fig.show()"
   ]
  }
 ],
 "metadata": {
  "kernelspec": {
   "display_name": "Python 3",
   "language": "python",
   "name": "python3"
  },
  "language_info": {
   "codemirror_mode": {
    "name": "ipython",
    "version": 3
   },
   "file_extension": ".py",
   "mimetype": "text/x-python",
   "name": "python",
   "nbconvert_exporter": "python",
   "pygments_lexer": "ipython3",
   "version": "3.8.5"
  }
 },
 "nbformat": 4,
 "nbformat_minor": 4
}
